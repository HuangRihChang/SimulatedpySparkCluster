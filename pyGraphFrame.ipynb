{
 "cells": [
  {
   "cell_type": "code",
   "execution_count": 1,
   "metadata": {},
   "outputs": [
    {
     "name": "stderr",
     "output_type": "stream",
     "text": [
      "22/11/20 07:41:48 WARN Utils: Your hostname, suong-VivoBook-ASUSLaptop-X515EA-X515EA resolves to a loopback address: 127.0.1.1; using 192.168.1.14 instead (on interface wlo1)\n",
      "22/11/20 07:41:48 WARN Utils: Set SPARK_LOCAL_IP if you need to bind to another address\n",
      "WARNING: An illegal reflective access operation has occurred\n",
      "WARNING: Illegal reflective access by org.apache.spark.unsafe.Platform (file:/home/suong/miniconda3/lib/python3.9/site-packages/pyspark/jars/spark-unsafe_2.12-3.2.2.jar) to constructor java.nio.DirectByteBuffer(long,int)\n",
      "WARNING: Please consider reporting this to the maintainers of org.apache.spark.unsafe.Platform\n",
      "WARNING: Use --illegal-access=warn to enable warnings of further illegal reflective access operations\n",
      "WARNING: All illegal access operations will be denied in a future release\n"
     ]
    },
    {
     "name": "stdout",
     "output_type": "stream",
     "text": [
      ":: loading settings :: url = jar:file:/home/suong/miniconda3/lib/python3.9/site-packages/pyspark/jars/ivy-2.5.0.jar!/org/apache/ivy/core/settings/ivysettings.xml\n"
     ]
    },
    {
     "name": "stderr",
     "output_type": "stream",
     "text": [
      "Ivy Default Cache set to: /home/suong/.ivy2/cache\n",
      "The jars for the packages stored in: /home/suong/.ivy2/jars\n",
      "graphframes#graphframes added as a dependency\n",
      ":: resolving dependencies :: org.apache.spark#spark-submit-parent-92aaa32d-f557-4286-be02-39ad3f2c84e2;1.0\n",
      "\tconfs: [default]\n",
      "\tfound graphframes#graphframes;0.8.2-spark3.2-s_2.12 in spark-packages\n",
      "\tfound org.slf4j#slf4j-api;1.7.16 in central\n",
      ":: resolution report :: resolve 183ms :: artifacts dl 9ms\n",
      "\t:: modules in use:\n",
      "\tgraphframes#graphframes;0.8.2-spark3.2-s_2.12 from spark-packages in [default]\n",
      "\torg.slf4j#slf4j-api;1.7.16 from central in [default]\n",
      "\t---------------------------------------------------------------------\n",
      "\t|                  |            modules            ||   artifacts   |\n",
      "\t|       conf       | number| search|dwnlded|evicted|| number|dwnlded|\n",
      "\t---------------------------------------------------------------------\n",
      "\t|      default     |   2   |   0   |   0   |   0   ||   2   |   0   |\n",
      "\t---------------------------------------------------------------------\n",
      ":: retrieving :: org.apache.spark#spark-submit-parent-92aaa32d-f557-4286-be02-39ad3f2c84e2\n",
      "\tconfs: [default]\n",
      "\t0 artifacts copied, 2 already retrieved (0kB/10ms)\n",
      "22/11/20 07:41:48 WARN NativeCodeLoader: Unable to load native-hadoop library for your platform... using builtin-java classes where applicable\n",
      "Using Spark's default log4j profile: org/apache/spark/log4j-defaults.properties\n",
      "Setting default log level to \"WARN\".\n",
      "To adjust logging level use sc.setLogLevel(newLevel). For SparkR, use setLogLevel(newLevel).\n",
      "22/11/20 07:41:50 WARN Utils: Service 'SparkUI' could not bind on port 4040. Attempting port 4041.\n"
     ]
    }
   ],
   "source": [
    "packages = [\"graphframes:graphframes:0.8.2-spark3.2-s_2.12\"]\n",
    "from setup import PythonSpark\n",
    "import networkx as nx\n",
    "import matplotlib.pyplot as plt\n",
    "\n",
    "\n",
    "pySpark = PythonSpark(packages=packages)\n",
    "sc, spark, pyspark = pySpark.get_session()"
   ]
  },
  {
   "cell_type": "code",
   "execution_count": 2,
   "metadata": {},
   "outputs": [
    {
     "data": {
      "text/html": [
       "<div>\n",
       "<style scoped>\n",
       "    .dataframe tbody tr th:only-of-type {\n",
       "        vertical-align: middle;\n",
       "    }\n",
       "\n",
       "    .dataframe tbody tr th {\n",
       "        vertical-align: top;\n",
       "    }\n",
       "\n",
       "    .dataframe thead th {\n",
       "        text-align: right;\n",
       "    }\n",
       "</style>\n",
       "<table border=\"1\" class=\"dataframe\">\n",
       "  <thead>\n",
       "    <tr style=\"text-align: right;\">\n",
       "      <th></th>\n",
       "      <th>dofM</th>\n",
       "      <th>dofW</th>\n",
       "      <th>carrier</th>\n",
       "      <th>tailnum</th>\n",
       "      <th>flnum</th>\n",
       "      <th>org_id</th>\n",
       "      <th>origin</th>\n",
       "      <th>dest_id</th>\n",
       "      <th>dest</th>\n",
       "      <th>crsdeptime</th>\n",
       "      <th>deptime</th>\n",
       "      <th>depdelaymins</th>\n",
       "      <th>crsarrtime</th>\n",
       "      <th>arrtime</th>\n",
       "      <th>arrdelay</th>\n",
       "      <th>crselapsedtime</th>\n",
       "      <th>dist</th>\n",
       "      <th>fltspeed</th>\n",
       "    </tr>\n",
       "  </thead>\n",
       "  <tbody>\n",
       "    <tr>\n",
       "      <th>0</th>\n",
       "      <td>1</td>\n",
       "      <td>3</td>\n",
       "      <td>AA</td>\n",
       "      <td>N338AA</td>\n",
       "      <td>1</td>\n",
       "      <td>12478</td>\n",
       "      <td>JFK</td>\n",
       "      <td>12892</td>\n",
       "      <td>LAX</td>\n",
       "      <td>900.0</td>\n",
       "      <td>914.0</td>\n",
       "      <td>14.0</td>\n",
       "      <td>1225.0</td>\n",
       "      <td>1238.0</td>\n",
       "      <td>13.0</td>\n",
       "      <td>385.0</td>\n",
       "      <td>2475</td>\n",
       "      <td>6.021898</td>\n",
       "    </tr>\n",
       "    <tr>\n",
       "      <th>1</th>\n",
       "      <td>2</td>\n",
       "      <td>4</td>\n",
       "      <td>AA</td>\n",
       "      <td>N338AA</td>\n",
       "      <td>1</td>\n",
       "      <td>12478</td>\n",
       "      <td>JFK</td>\n",
       "      <td>12892</td>\n",
       "      <td>LAX</td>\n",
       "      <td>900.0</td>\n",
       "      <td>857.0</td>\n",
       "      <td>0.0</td>\n",
       "      <td>1225.0</td>\n",
       "      <td>1226.0</td>\n",
       "      <td>1.0</td>\n",
       "      <td>385.0</td>\n",
       "      <td>2475</td>\n",
       "      <td>6.395349</td>\n",
       "    </tr>\n",
       "    <tr>\n",
       "      <th>2</th>\n",
       "      <td>4</td>\n",
       "      <td>6</td>\n",
       "      <td>AA</td>\n",
       "      <td>N327AA</td>\n",
       "      <td>1</td>\n",
       "      <td>12478</td>\n",
       "      <td>JFK</td>\n",
       "      <td>12892</td>\n",
       "      <td>LAX</td>\n",
       "      <td>900.0</td>\n",
       "      <td>1005.0</td>\n",
       "      <td>65.0</td>\n",
       "      <td>1225.0</td>\n",
       "      <td>1324.0</td>\n",
       "      <td>59.0</td>\n",
       "      <td>385.0</td>\n",
       "      <td>2475</td>\n",
       "      <td>4.558011</td>\n",
       "    </tr>\n",
       "    <tr>\n",
       "      <th>3</th>\n",
       "      <td>5</td>\n",
       "      <td>7</td>\n",
       "      <td>AA</td>\n",
       "      <td>N323AA</td>\n",
       "      <td>1</td>\n",
       "      <td>12478</td>\n",
       "      <td>JFK</td>\n",
       "      <td>12892</td>\n",
       "      <td>LAX</td>\n",
       "      <td>900.0</td>\n",
       "      <td>1050.0</td>\n",
       "      <td>110.0</td>\n",
       "      <td>1225.0</td>\n",
       "      <td>1415.0</td>\n",
       "      <td>110.0</td>\n",
       "      <td>385.0</td>\n",
       "      <td>2475</td>\n",
       "      <td>3.613139</td>\n",
       "    </tr>\n",
       "    <tr>\n",
       "      <th>4</th>\n",
       "      <td>6</td>\n",
       "      <td>1</td>\n",
       "      <td>AA</td>\n",
       "      <td>N319AA</td>\n",
       "      <td>1</td>\n",
       "      <td>12478</td>\n",
       "      <td>JFK</td>\n",
       "      <td>12892</td>\n",
       "      <td>LAX</td>\n",
       "      <td>900.0</td>\n",
       "      <td>917.0</td>\n",
       "      <td>17.0</td>\n",
       "      <td>1225.0</td>\n",
       "      <td>1217.0</td>\n",
       "      <td>0.0</td>\n",
       "      <td>385.0</td>\n",
       "      <td>2475</td>\n",
       "      <td>6.564987</td>\n",
       "    </tr>\n",
       "  </tbody>\n",
       "</table>\n",
       "</div>"
      ],
      "text/plain": [
       "  dofM dofW carrier tailnum  flnum  org_id origin  dest_id dest  crsdeptime  \\\n",
       "0    1    3      AA  N338AA      1   12478    JFK    12892  LAX       900.0   \n",
       "1    2    4      AA  N338AA      1   12478    JFK    12892  LAX       900.0   \n",
       "2    4    6      AA  N327AA      1   12478    JFK    12892  LAX       900.0   \n",
       "3    5    7      AA  N323AA      1   12478    JFK    12892  LAX       900.0   \n",
       "4    6    1      AA  N319AA      1   12478    JFK    12892  LAX       900.0   \n",
       "\n",
       "   deptime  depdelaymins  crsarrtime  arrtime  arrdelay  crselapsedtime  dist  \\\n",
       "0    914.0          14.0      1225.0   1238.0      13.0           385.0  2475   \n",
       "1    857.0           0.0      1225.0   1226.0       1.0           385.0  2475   \n",
       "2   1005.0          65.0      1225.0   1324.0      59.0           385.0  2475   \n",
       "3   1050.0         110.0      1225.0   1415.0     110.0           385.0  2475   \n",
       "4    917.0          17.0      1225.0   1217.0       0.0           385.0  2475   \n",
       "\n",
       "   fltspeed  \n",
       "0  6.021898  \n",
       "1  6.395349  \n",
       "2  4.558011  \n",
       "3  3.613139  \n",
       "4  6.564987  "
      ]
     },
     "execution_count": 2,
     "metadata": {},
     "output_type": "execute_result"
    }
   ],
   "source": [
    "from pyspark.sql.types import StructType, StructField, IntegerType, StringType, DoubleType, LongType\n",
    "from graphframes import GraphFrame\n",
    "from pyspark.sql.functions import desc\n",
    "\n",
    "schema = StructType([\n",
    "    StructField(\"dofM\", StringType(), True),\n",
    "    StructField(\"dofW\", StringType(), True),\n",
    "    StructField(\"carrier\", StringType(), True),\n",
    "    StructField(\"tailnum\", StringType(), True),\n",
    "    StructField(\"flnum\", IntegerType(), True),\n",
    "    StructField(\"org_id\", LongType(), True),\n",
    "    StructField(\"origin\", StringType(), True),\n",
    "    StructField(\"dest_id\", LongType(), True),\n",
    "    StructField(\"dest\", StringType(), True),\n",
    "    StructField(\"crsdeptime\", DoubleType(), True),\n",
    "    StructField(\"deptime\", DoubleType(), True),\n",
    "    StructField(\"depdelaymins\", DoubleType(), True),\n",
    "    StructField(\"crsarrtime\", DoubleType(), True),\n",
    "    StructField(\"arrtime\", DoubleType(), True),\n",
    "    StructField(\"arrdelay\", DoubleType(), True),\n",
    "    StructField(\"crselapsedtime\", DoubleType(), True),\n",
    "    StructField(\"dist\", IntegerType(), True)\n",
    "])\n",
    "\n",
    "flightsRDD = spark.read.csv(\"./rita2014jan.csv\", header=False, schema=schema,)\n",
    "flightsRDD = flightsRDD.withColumn('fltspeed', flightsRDD.dist/(flightsRDD.arrtime - flightsRDD.crsarrtime + flightsRDD.arrdelay + flightsRDD.crselapsedtime))\n",
    "flightsRDD.limit(5).toPandas()"
   ]
  },
  {
   "cell_type": "code",
   "execution_count": 3,
   "metadata": {},
   "outputs": [],
   "source": [
    "airports = flightsRDD.select('org_id',\"origin\").distinct()\n",
    "airports = airports.withColumnRenamed(\"org_id\", \"id\")\n",
    "routes = flightsRDD.select('org_id',\"dest_id\", \"dist\").distinct()\n",
    "routes = routes.withColumnRenamed(\"org_id\", \"src\").withColumnRenamed(\"dest_id\", \"dst\")\n",
    "\n",
    "graph = GraphFrame(airports, routes)"
   ]
  },
  {
   "cell_type": "markdown",
   "metadata": {},
   "source": [
    "How many airports are there?"
   ]
  },
  {
   "cell_type": "code",
   "execution_count": 4,
   "metadata": {},
   "outputs": [
    {
     "name": "stderr",
     "output_type": "stream",
     "text": [
      "                                                                                \r"
     ]
    },
    {
     "data": {
      "text/plain": [
       "301"
      ]
     },
     "execution_count": 4,
     "metadata": {},
     "output_type": "execute_result"
    }
   ],
   "source": [
    "numairports = graph.vertices.count()\n",
    "numairports"
   ]
  },
  {
   "cell_type": "markdown",
   "metadata": {},
   "source": [
    "How many routes are there?"
   ]
  },
  {
   "cell_type": "code",
   "execution_count": 5,
   "metadata": {},
   "outputs": [
    {
     "name": "stderr",
     "output_type": "stream",
     "text": [
      "                                                                                \r"
     ]
    },
    {
     "data": {
      "text/plain": [
       "4090"
      ]
     },
     "execution_count": 5,
     "metadata": {},
     "output_type": "execute_result"
    }
   ],
   "source": [
    "numroutes = graph.edges.count()\n",
    "numroutes"
   ]
  },
  {
   "cell_type": "markdown",
   "metadata": {},
   "source": [
    "which routes > 1000 miles distance?"
   ]
  },
  {
   "cell_type": "code",
   "execution_count": 6,
   "metadata": {},
   "outputs": [
    {
     "name": "stderr",
     "output_type": "stream",
     "text": [
      "[Stage 13:=====================>                                    (3 + 5) / 8]\r"
     ]
    },
    {
     "name": "stdout",
     "output_type": "stream",
     "text": [
      "+-----+-----+----+\n",
      "|  src|  dst|dist|\n",
      "+-----+-----+----+\n",
      "|13303|13487|1501|\n",
      "|14679|14747|1050|\n",
      "|10721|12478| 187|\n",
      "|13204|14747|2554|\n",
      "|14771|10721|2704|\n",
      "|10140|12478|1826|\n",
      "|14107|10721|2300|\n",
      "|13487|13930| 334|\n",
      "|12478|14747|2422|\n",
      "|13930|10423| 978|\n",
      "|12892|11298|1235|\n",
      "|14771|10423|1504|\n",
      "|12478|10721| 187|\n",
      "|11298|14100|1303|\n",
      "|15376|13930|1437|\n",
      "|13830|10666|2681|\n",
      "|13796|12173|2409|\n",
      "|10423|14771|1504|\n",
      "|13303|11298|1121|\n",
      "|12892|13303|2342|\n",
      "+-----+-----+----+\n",
      "only showing top 20 rows\n",
      "\n"
     ]
    },
    {
     "name": "stderr",
     "output_type": "stream",
     "text": [
      "                                                                                \r"
     ]
    }
   ],
   "source": [
    "graph.edges.filter(\"dst > 1000\").show()"
   ]
  },
  {
   "cell_type": "markdown",
   "metadata": {},
   "source": [
    "How many incoming flights in for each airport?"
   ]
  },
  {
   "cell_type": "code",
   "execution_count": 7,
   "metadata": {},
   "outputs": [
    {
     "name": "stderr",
     "output_type": "stream",
     "text": [
      "[Stage 16:=============================>                            (4 + 4) / 8]\r"
     ]
    },
    {
     "name": "stdout",
     "output_type": "stream",
     "text": [
      "+-----+--------+\n",
      "|   id|inDegree|\n",
      "+-----+--------+\n",
      "|10397|     152|\n",
      "|13930|     145|\n",
      "|11298|     143|\n",
      "|11292|     132|\n",
      "|12266|     107|\n",
      "+-----+--------+\n",
      "only showing top 5 rows\n",
      "\n"
     ]
    },
    {
     "name": "stderr",
     "output_type": "stream",
     "text": [
      "                                                                                \r"
     ]
    }
   ],
   "source": [
    "tree_outDegree = graph.inDegrees\n",
    "tree_outDegree.sort(desc(\"inDegree\")).show(5)"
   ]
  },
  {
   "cell_type": "markdown",
   "metadata": {},
   "source": [
    "How many outcoming flights out for each airport?"
   ]
  },
  {
   "cell_type": "code",
   "execution_count": 8,
   "metadata": {},
   "outputs": [
    {
     "name": "stdout",
     "output_type": "stream",
     "text": [
      "+-----+---------+\n",
      "|   id|outDegree|\n",
      "+-----+---------+\n",
      "|10397|      153|\n",
      "|13930|      146|\n",
      "|11298|      143|\n",
      "|11292|      132|\n",
      "|12266|      108|\n",
      "+-----+---------+\n",
      "only showing top 5 rows\n",
      "\n"
     ]
    }
   ],
   "source": [
    "tree_outDegree = graph.outDegrees\n",
    "tree_outDegree.sort(desc(\"outDegree\")).show(5)"
   ]
  },
  {
   "cell_type": "code",
   "execution_count": 9,
   "metadata": {},
   "outputs": [],
   "source": [
    "# sc.setCheckpointDir('graphframes_cps')\n",
    "# graph.connectedComponents().show(5)"
   ]
  },
  {
   "cell_type": "markdown",
   "metadata": {},
   "source": [
    "What are the most important airports according to PageRank?"
   ]
  },
  {
   "cell_type": "code",
   "execution_count": 10,
   "metadata": {},
   "outputs": [
    {
     "name": "stderr",
     "output_type": "stream",
     "text": [
      "                                                                                \r"
     ]
    },
    {
     "name": "stdout",
     "output_type": "stream",
     "text": [
      "+-----+------+------------------+\n",
      "|   id|origin|          pagerank|\n",
      "+-----+------+------------------+\n",
      "|10397|   ATL|11.576827021614074|\n",
      "|13930|   ORD|11.397237293161902|\n",
      "|11298|   DFW|11.234292097162035|\n",
      "|11292|   DEN| 8.685701563346548|\n",
      "|13487|   MSP|7.0546713091055056|\n",
      "+-----+------+------------------+\n",
      "only showing top 5 rows\n",
      "\n"
     ]
    },
    {
     "name": "stderr",
     "output_type": "stream",
     "text": [
      "                                                                                \r"
     ]
    },
    {
     "name": "stdout",
     "output_type": "stream",
     "text": [
      "+-----+-----+----+------+\n",
      "|  src|  dst|dist|weight|\n",
      "+-----+-----+----+------+\n",
      "|10165|10299|1192|   1.0|\n",
      "|10141|13487| 257|   1.0|\n",
      "|10170|10299| 253|   1.0|\n",
      "|10136|11298| 158|   1.0|\n",
      "|10208|10397| 143|   1.0|\n",
      "+-----+-----+----+------+\n",
      "only showing top 5 rows\n",
      "\n"
     ]
    }
   ],
   "source": [
    "results = graph.pageRank(resetProbability=0.25, tol=0.01)\n",
    "results.vertices.sort(desc(\"pagerank\")).show(5)\n",
    "results.edges.sort(desc(\"weight\")).show(5)"
   ]
  },
  {
   "cell_type": "markdown",
   "metadata": {},
   "source": [
    "How many route i can take from A to B then to C?"
   ]
  },
  {
   "cell_type": "code",
   "execution_count": 11,
   "metadata": {},
   "outputs": [
    {
     "name": "stderr",
     "output_type": "stream",
     "text": [
      "                                                                                \r"
     ]
    },
    {
     "name": "stdout",
     "output_type": "stream",
     "text": [
      "+------------+------------+------------+\n",
      "|           a|           b|           c|\n",
      "+------------+------------+------------+\n",
      "|{13930, ORD}|{12478, JFK}|{11292, DEN}|\n",
      "|{13930, ORD}|{13029, LNK}|{11292, DEN}|\n",
      "|{13930, ORD}|{10529, BDL}|{11292, DEN}|\n",
      "|{13930, ORD}|{13204, MCO}|{11292, DEN}|\n",
      "|{13930, ORD}|{13244, MEM}|{11292, DEN}|\n",
      "|{13930, ORD}|{11618, EWR}|{11292, DEN}|\n",
      "|{13930, ORD}|{14747, SEA}|{11292, DEN}|\n",
      "|{13930, ORD}|{11503, EGE}|{11292, DEN}|\n",
      "|{13930, ORD}|{14570, RNO}|{11292, DEN}|\n",
      "|{13930, ORD}|{15376, TUS}|{11292, DEN}|\n",
      "|{13930, ORD}|{14100, PHL}|{11292, DEN}|\n",
      "|{13930, ORD}|{15370, TUL}|{11292, DEN}|\n",
      "|{13930, ORD}|{10874, CAK}|{11292, DEN}|\n",
      "|{13930, ORD}|{14908, SNA}|{11292, DEN}|\n",
      "|{13930, ORD}|{11423, DSM}|{11292, DEN}|\n",
      "|{13930, ORD}|{13487, MSP}|{11292, DEN}|\n",
      "|{13930, ORD}|{14683, SAT}|{11292, DEN}|\n",
      "|{13930, ORD}|{14771, SFO}|{11292, DEN}|\n",
      "|{13930, ORD}|{14492, RDU}|{11292, DEN}|\n",
      "|{13930, ORD}|{12441, JAC}|{11292, DEN}|\n",
      "+------------+------------+------------+\n",
      "only showing top 20 rows\n",
      "\n"
     ]
    }
   ],
   "source": [
    "graph.find(\"(a)-[]->(b); (b)-[]->(c); (c)-[]->(b); (b)-[]->(a)\").dropDuplicates().filter('a.id == 13930 and c.id == 11292').show()"
   ]
  },
  {
   "cell_type": "markdown",
   "metadata": {},
   "source": [
    "i want to take the shortest trip from A to B"
   ]
  },
  {
   "cell_type": "code",
   "execution_count": 12,
   "metadata": {},
   "outputs": [
    {
     "name": "stderr",
     "output_type": "stream",
     "text": [
      "                                                                                \r"
     ]
    },
    {
     "name": "stdout",
     "output_type": "stream",
     "text": [
      "+------------+-------------------+------------+-------------------+------------+\n",
      "|        from|                 e0|          v1|                 e1|          to|\n",
      "+------------+-------------------+------------+-------------------+------------+\n",
      "|{11140, CRP}|{11140, 11298, 354}|{11298, DFW}|{11298, 14730, 733}|{14730, SDF}|\n",
      "|{11140, CRP}|{11140, 12266, 201}|{12266, IAH}|{12266, 14730, 788}|{14730, SDF}|\n",
      "+------------+-------------------+------------+-------------------+------------+\n",
      "\n"
     ]
    }
   ],
   "source": [
    "paths = graph.bfs(fromExpr=\"id = '11140'\", toExpr=\"id = 14730\")\n",
    "paths.show()"
   ]
  },
  {
   "cell_type": "markdown",
   "metadata": {},
   "source": [
    "So, how about \"i want to take the fastest trip from A to B\""
   ]
  },
  {
   "cell_type": "code",
   "execution_count": 19,
   "metadata": {},
   "outputs": [
    {
     "data": {
      "text/html": [
       "<div>\n",
       "<style scoped>\n",
       "    .dataframe tbody tr th:only-of-type {\n",
       "        vertical-align: middle;\n",
       "    }\n",
       "\n",
       "    .dataframe tbody tr th {\n",
       "        vertical-align: top;\n",
       "    }\n",
       "\n",
       "    .dataframe thead th {\n",
       "        text-align: right;\n",
       "    }\n",
       "</style>\n",
       "<table border=\"1\" class=\"dataframe\">\n",
       "  <thead>\n",
       "    <tr style=\"text-align: right;\">\n",
       "      <th></th>\n",
       "      <th>dofM</th>\n",
       "      <th>dofW</th>\n",
       "      <th>carrier</th>\n",
       "      <th>tailnum</th>\n",
       "      <th>flnum</th>\n",
       "      <th>org_id</th>\n",
       "      <th>origin</th>\n",
       "      <th>dest_id</th>\n",
       "      <th>dest</th>\n",
       "      <th>crsdeptime</th>\n",
       "      <th>deptime</th>\n",
       "      <th>depdelaymins</th>\n",
       "      <th>crsarrtime</th>\n",
       "      <th>arrtime</th>\n",
       "      <th>arrdelay</th>\n",
       "      <th>crselapsedtime</th>\n",
       "      <th>dist</th>\n",
       "      <th>flttime</th>\n",
       "    </tr>\n",
       "  </thead>\n",
       "  <tbody>\n",
       "    <tr>\n",
       "      <th>0</th>\n",
       "      <td>1</td>\n",
       "      <td>3</td>\n",
       "      <td>AA</td>\n",
       "      <td>N338AA</td>\n",
       "      <td>1</td>\n",
       "      <td>12478</td>\n",
       "      <td>JFK</td>\n",
       "      <td>12892</td>\n",
       "      <td>LAX</td>\n",
       "      <td>900.0</td>\n",
       "      <td>914.0</td>\n",
       "      <td>14.0</td>\n",
       "      <td>1225.0</td>\n",
       "      <td>1238.0</td>\n",
       "      <td>13.0</td>\n",
       "      <td>385.0</td>\n",
       "      <td>2475</td>\n",
       "      <td>325.0</td>\n",
       "    </tr>\n",
       "    <tr>\n",
       "      <th>1</th>\n",
       "      <td>2</td>\n",
       "      <td>4</td>\n",
       "      <td>AA</td>\n",
       "      <td>N338AA</td>\n",
       "      <td>1</td>\n",
       "      <td>12478</td>\n",
       "      <td>JFK</td>\n",
       "      <td>12892</td>\n",
       "      <td>LAX</td>\n",
       "      <td>900.0</td>\n",
       "      <td>857.0</td>\n",
       "      <td>0.0</td>\n",
       "      <td>1225.0</td>\n",
       "      <td>1226.0</td>\n",
       "      <td>1.0</td>\n",
       "      <td>385.0</td>\n",
       "      <td>2475</td>\n",
       "      <td>325.0</td>\n",
       "    </tr>\n",
       "    <tr>\n",
       "      <th>2</th>\n",
       "      <td>4</td>\n",
       "      <td>6</td>\n",
       "      <td>AA</td>\n",
       "      <td>N327AA</td>\n",
       "      <td>1</td>\n",
       "      <td>12478</td>\n",
       "      <td>JFK</td>\n",
       "      <td>12892</td>\n",
       "      <td>LAX</td>\n",
       "      <td>900.0</td>\n",
       "      <td>1005.0</td>\n",
       "      <td>65.0</td>\n",
       "      <td>1225.0</td>\n",
       "      <td>1324.0</td>\n",
       "      <td>59.0</td>\n",
       "      <td>385.0</td>\n",
       "      <td>2475</td>\n",
       "      <td>325.0</td>\n",
       "    </tr>\n",
       "    <tr>\n",
       "      <th>3</th>\n",
       "      <td>5</td>\n",
       "      <td>7</td>\n",
       "      <td>AA</td>\n",
       "      <td>N323AA</td>\n",
       "      <td>1</td>\n",
       "      <td>12478</td>\n",
       "      <td>JFK</td>\n",
       "      <td>12892</td>\n",
       "      <td>LAX</td>\n",
       "      <td>900.0</td>\n",
       "      <td>1050.0</td>\n",
       "      <td>110.0</td>\n",
       "      <td>1225.0</td>\n",
       "      <td>1415.0</td>\n",
       "      <td>110.0</td>\n",
       "      <td>385.0</td>\n",
       "      <td>2475</td>\n",
       "      <td>325.0</td>\n",
       "    </tr>\n",
       "    <tr>\n",
       "      <th>4</th>\n",
       "      <td>6</td>\n",
       "      <td>1</td>\n",
       "      <td>AA</td>\n",
       "      <td>N319AA</td>\n",
       "      <td>1</td>\n",
       "      <td>12478</td>\n",
       "      <td>JFK</td>\n",
       "      <td>12892</td>\n",
       "      <td>LAX</td>\n",
       "      <td>900.0</td>\n",
       "      <td>917.0</td>\n",
       "      <td>17.0</td>\n",
       "      <td>1225.0</td>\n",
       "      <td>1217.0</td>\n",
       "      <td>0.0</td>\n",
       "      <td>385.0</td>\n",
       "      <td>2475</td>\n",
       "      <td>325.0</td>\n",
       "    </tr>\n",
       "  </tbody>\n",
       "</table>\n",
       "</div>"
      ],
      "text/plain": [
       "  dofM dofW carrier tailnum  flnum  org_id origin  dest_id dest  crsdeptime  \\\n",
       "0    1    3      AA  N338AA      1   12478    JFK    12892  LAX       900.0   \n",
       "1    2    4      AA  N338AA      1   12478    JFK    12892  LAX       900.0   \n",
       "2    4    6      AA  N327AA      1   12478    JFK    12892  LAX       900.0   \n",
       "3    5    7      AA  N323AA      1   12478    JFK    12892  LAX       900.0   \n",
       "4    6    1      AA  N319AA      1   12478    JFK    12892  LAX       900.0   \n",
       "\n",
       "   deptime  depdelaymins  crsarrtime  arrtime  arrdelay  crselapsedtime  dist  \\\n",
       "0    914.0          14.0      1225.0   1238.0      13.0           385.0  2475   \n",
       "1    857.0           0.0      1225.0   1226.0       1.0           385.0  2475   \n",
       "2   1005.0          65.0      1225.0   1324.0      59.0           385.0  2475   \n",
       "3   1050.0         110.0      1225.0   1415.0     110.0           385.0  2475   \n",
       "4    917.0          17.0      1225.0   1217.0       0.0           385.0  2475   \n",
       "\n",
       "   flttime  \n",
       "0    325.0  \n",
       "1    325.0  \n",
       "2    325.0  \n",
       "3    325.0  \n",
       "4    325.0  "
      ]
     },
     "execution_count": 19,
     "metadata": {},
     "output_type": "execute_result"
    }
   ],
   "source": [
    "schema = StructType([\n",
    "    StructField(\"dofM\", StringType(), True),\n",
    "    StructField(\"dofW\", StringType(), True),\n",
    "    StructField(\"carrier\", StringType(), True),\n",
    "    StructField(\"tailnum\", StringType(), True),\n",
    "    StructField(\"flnum\", IntegerType(), True),\n",
    "    StructField(\"org_id\", LongType(), True),\n",
    "    StructField(\"origin\", StringType(), True),\n",
    "    StructField(\"dest_id\", LongType(), True),\n",
    "    StructField(\"dest\", StringType(), True),\n",
    "    StructField(\"crsdeptime\", DoubleType(), True),\n",
    "    StructField(\"deptime\", DoubleType(), True),\n",
    "    StructField(\"depdelaymins\", DoubleType(), True),\n",
    "    StructField(\"crsarrtime\", DoubleType(), True),\n",
    "    StructField(\"arrtime\", DoubleType(), True),\n",
    "    StructField(\"arrdelay\", DoubleType(), True),\n",
    "    StructField(\"crselapsedtime\", DoubleType(), True),\n",
    "    StructField(\"dist\", IntegerType(), True)\n",
    "])\n",
    "\n",
    "flightsRDD = spark.read.csv(\"./rita2014jan.csv\", header=False, schema=schema,)\n",
    "flightsRDD = flightsRDD.withColumn('flttime', (flightsRDD.crsarrtime - flightsRDD.crsdeptime))\n",
    "flightsRDD.limit(5).toPandas()"
   ]
  },
  {
   "cell_type": "code",
   "execution_count": 20,
   "metadata": {},
   "outputs": [],
   "source": [
    "airports = flightsRDD.select('org_id',\"origin\").distinct()\n",
    "airports = airports.withColumnRenamed(\"org_id\", \"id\")\n",
    "routes = flightsRDD.select('org_id',\"dest_id\", \"flttime\").distinct()\n",
    "routes = routes.withColumnRenamed(\"org_id\", \"src\").withColumnRenamed(\"dest_id\", \"dst\")\n",
    "\n",
    "graph = GraphFrame(airports, routes)"
   ]
  },
  {
   "cell_type": "code",
   "execution_count": 21,
   "metadata": {},
   "outputs": [
    {
     "name": "stderr",
     "output_type": "stream",
     "text": [
      "                                                                                \r"
     ]
    },
    {
     "name": "stdout",
     "output_type": "stream",
     "text": [
      "+------------+--------------------+------------+--------------------+------------+\n",
      "|        from|                  e0|          v1|                  e1|          to|\n",
      "+------------+--------------------+------------+--------------------+------------+\n",
      "|{11140, CRP}|{11140, 11298, 16...|{11298, DFW}|{11298, 14730, 29...|{14730, SDF}|\n",
      "|{11140, CRP}|{11140, 11298, 16...|{11298, DFW}|{11298, 14730, 30...|{14730, SDF}|\n",
      "|{11140, CRP}|{11140, 11298, 12...|{11298, DFW}|{11298, 14730, 29...|{14730, SDF}|\n",
      "|{11140, CRP}|{11140, 11298, 12...|{11298, DFW}|{11298, 14730, 30...|{14730, SDF}|\n",
      "|{11140, CRP}|{11140, 11298, 12...|{11298, DFW}|{11298, 14730, 29...|{14730, SDF}|\n",
      "|{11140, CRP}|{11140, 11298, 12...|{11298, DFW}|{11298, 14730, 30...|{14730, SDF}|\n",
      "|{11140, CRP}|{11140, 12266, 99.0}|{12266, IAH}|{12266, 14730, 31...|{14730, SDF}|\n",
      "|{11140, CRP}|{11140, 12266, 99.0}|{12266, IAH}|{12266, 14730, 31...|{14730, SDF}|\n",
      "|{11140, CRP}|{11140, 12266, 99.0}|{12266, IAH}|{12266, 14730, 35...|{14730, SDF}|\n",
      "|{11140, CRP}|{11140, 12266, 99.0}|{12266, IAH}|{12266, 14730, 35...|{14730, SDF}|\n",
      "|{11140, CRP}|{11140, 12266, 99.0}|{12266, IAH}|{12266, 14730, 30...|{14730, SDF}|\n",
      "|{11140, CRP}|{11140, 12266, 10...|{12266, IAH}|{12266, 14730, 31...|{14730, SDF}|\n",
      "|{11140, CRP}|{11140, 12266, 10...|{12266, IAH}|{12266, 14730, 31...|{14730, SDF}|\n",
      "|{11140, CRP}|{11140, 12266, 10...|{12266, IAH}|{12266, 14730, 35...|{14730, SDF}|\n",
      "|{11140, CRP}|{11140, 12266, 10...|{12266, IAH}|{12266, 14730, 35...|{14730, SDF}|\n",
      "|{11140, CRP}|{11140, 12266, 10...|{12266, IAH}|{12266, 14730, 30...|{14730, SDF}|\n",
      "|{11140, CRP}|{11140, 12266, 10...|{12266, IAH}|{12266, 14730, 31...|{14730, SDF}|\n",
      "|{11140, CRP}|{11140, 12266, 10...|{12266, IAH}|{12266, 14730, 31...|{14730, SDF}|\n",
      "|{11140, CRP}|{11140, 12266, 10...|{12266, IAH}|{12266, 14730, 35...|{14730, SDF}|\n",
      "|{11140, CRP}|{11140, 12266, 10...|{12266, IAH}|{12266, 14730, 35...|{14730, SDF}|\n",
      "+------------+--------------------+------------+--------------------+------------+\n",
      "only showing top 20 rows\n",
      "\n"
     ]
    }
   ],
   "source": [
    "paths = graph.bfs(fromExpr=\"id = '11140'\", toExpr=\"id = 14730\")\n",
    "paths.show()"
   ]
  },
  {
   "cell_type": "code",
   "execution_count": null,
   "metadata": {},
   "outputs": [],
   "source": []
  }
 ],
 "metadata": {
  "kernelspec": {
   "display_name": "Python 3.9.7 ('base')",
   "language": "python",
   "name": "python3"
  },
  "language_info": {
   "codemirror_mode": {
    "name": "ipython",
    "version": 3
   },
   "file_extension": ".py",
   "mimetype": "text/x-python",
   "name": "python",
   "nbconvert_exporter": "python",
   "pygments_lexer": "ipython3",
   "version": "3.9.7"
  },
  "orig_nbformat": 4,
  "vscode": {
   "interpreter": {
    "hash": "588c3c65383b76165a6314fd44887f12126f262e1694c1f7078238351290b054"
   }
  }
 },
 "nbformat": 4,
 "nbformat_minor": 2
}
